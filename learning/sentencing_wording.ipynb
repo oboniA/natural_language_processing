{
 "cells": [
  {
   "cell_type": "code",
   "execution_count": 1,
   "id": "b8d296ce",
   "metadata": {},
   "outputs": [],
   "source": [
    "# spaCy"
   ]
  },
  {
   "cell_type": "code",
   "execution_count": 8,
   "id": "53d8c337",
   "metadata": {},
   "outputs": [],
   "source": [
    "import spacy"
   ]
  },
  {
   "cell_type": "code",
   "execution_count": 9,
   "id": "da79ba83",
   "metadata": {},
   "outputs": [],
   "source": [
    "nlp = spacy.load(\"en_core_web_sm\")"
   ]
  },
  {
   "cell_type": "code",
   "execution_count": 10,
   "id": "96a2c2dc",
   "metadata": {},
   "outputs": [],
   "source": [
    "my_data = \"My name is Oboni Anower. It was given by my dad.\""
   ]
  },
  {
   "cell_type": "code",
   "execution_count": 11,
   "id": "b57cf651",
   "metadata": {},
   "outputs": [],
   "source": [
    "doc = nlp(my_data)"
   ]
  },
  {
   "cell_type": "code",
   "execution_count": 12,
   "id": "21af7d22",
   "metadata": {},
   "outputs": [
    {
     "name": "stdout",
     "output_type": "stream",
     "text": [
      "My name is Oboni Anower.\n",
      "It was given by my dad.\n"
     ]
    }
   ],
   "source": [
    "for sentence in doc.sents:\n",
    "    print(sentence)"
   ]
  },
  {
   "cell_type": "code",
   "execution_count": null,
   "id": "b27b8837",
   "metadata": {},
   "outputs": [],
   "source": []
  },
  {
   "cell_type": "code",
   "execution_count": 14,
   "id": "f7b359eb",
   "metadata": {},
   "outputs": [
    {
     "name": "stdout",
     "output_type": "stream",
     "text": [
      "My name is Oboni Anower.\n",
      "My\n",
      "name\n",
      "is\n",
      "Oboni\n",
      "Anower\n",
      ".\n",
      "It was given by my dad.\n",
      "It\n",
      "was\n",
      "given\n",
      "by\n",
      "my\n",
      "dad\n",
      ".\n"
     ]
    }
   ],
   "source": [
    "for sentence in doc.sents:\n",
    "    print(sentence)\n",
    "    for word in sentence:\n",
    "        print (word)"
   ]
  },
  {
   "cell_type": "code",
   "execution_count": null,
   "id": "e434468a",
   "metadata": {},
   "outputs": [],
   "source": []
  },
  {
   "cell_type": "code",
   "execution_count": 15,
   "id": "640cd6b6",
   "metadata": {},
   "outputs": [],
   "source": [
    "# nltk"
   ]
  },
  {
   "cell_type": "code",
   "execution_count": 16,
   "id": "1dcd161b",
   "metadata": {},
   "outputs": [],
   "source": [
    "import nltk"
   ]
  },
  {
   "cell_type": "code",
   "execution_count": 18,
   "id": "f73adcb0",
   "metadata": {},
   "outputs": [],
   "source": [
    "from nltk.tokenize import sent_tokenize   # sentence tokenize"
   ]
  },
  {
   "cell_type": "code",
   "execution_count": 19,
   "id": "84d44ef5",
   "metadata": {},
   "outputs": [
    {
     "data": {
      "text/plain": [
       "['My name is Oboni Anower.', 'It was given by my dad.']"
      ]
     },
     "execution_count": 19,
     "metadata": {},
     "output_type": "execute_result"
    }
   ],
   "source": [
    "sent_tokenize(\"My name is Oboni Anower. It was given by my dad.\")"
   ]
  },
  {
   "cell_type": "code",
   "execution_count": 20,
   "id": "30f061ea",
   "metadata": {},
   "outputs": [],
   "source": [
    "from nltk.tokenize import word_tokenize   # word tokenize"
   ]
  },
  {
   "cell_type": "code",
   "execution_count": 21,
   "id": "717fba84",
   "metadata": {},
   "outputs": [
    {
     "data": {
      "text/plain": [
       "['My',\n",
       " 'name',\n",
       " 'is',\n",
       " 'Oboni',\n",
       " 'Anower',\n",
       " '.',\n",
       " 'It',\n",
       " 'was',\n",
       " 'given',\n",
       " 'by',\n",
       " 'my',\n",
       " 'dad',\n",
       " '.']"
      ]
     },
     "execution_count": 21,
     "metadata": {},
     "output_type": "execute_result"
    }
   ],
   "source": [
    "word_tokenize(\"My name is Oboni Anower. It was given by my dad.\")"
   ]
  },
  {
   "cell_type": "code",
   "execution_count": null,
   "id": "9836ce28",
   "metadata": {},
   "outputs": [],
   "source": []
  }
 ],
 "metadata": {
  "kernelspec": {
   "display_name": "Python 3 (ipykernel)",
   "language": "python",
   "name": "python3"
  },
  "language_info": {
   "codemirror_mode": {
    "name": "ipython",
    "version": 3
   },
   "file_extension": ".py",
   "mimetype": "text/x-python",
   "name": "python",
   "nbconvert_exporter": "python",
   "pygments_lexer": "ipython3",
   "version": "3.10.9"
  }
 },
 "nbformat": 4,
 "nbformat_minor": 5
}
