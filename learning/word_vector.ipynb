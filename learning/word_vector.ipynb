{
 "cells": [
  {
   "cell_type": "code",
   "execution_count": 4,
   "id": "252a5e41",
   "metadata": {},
   "outputs": [],
   "source": [
    "# References: https://www.youtube.com/watch?v=vyohzuTkty8&t=73s\n",
    "#             https://www.youtube.com/watch?v=dIUTsFT2MeQ&t=3000s            "
   ]
  },
  {
   "cell_type": "code",
   "execution_count": 60,
   "id": "32c2388f",
   "metadata": {},
   "outputs": [],
   "source": [
    "import spacy"
   ]
  },
  {
   "cell_type": "code",
   "execution_count": 5,
   "id": "8f7d7c1c",
   "metadata": {},
   "outputs": [
    {
     "name": "stdout",
     "output_type": "stream",
     "text": [
      "Collecting en-core-web-md==3.5.0\n",
      "  Downloading https://github.com/explosion/spacy-models/releases/download/en_core_web_md-3.5.0/en_core_web_md-3.5.0-py3-none-any.whl (42.8 MB)\n",
      "     ---------------------------------------- 42.8/42.8 MB 3.2 MB/s eta 0:00:00\n",
      "Requirement already satisfied: spacy<3.6.0,>=3.5.0 in c:\\users\\anowe\\anaconda3\\lib\\site-packages (from en-core-web-md==3.5.0) (3.5.1)\n",
      "Requirement already satisfied: preshed<3.1.0,>=3.0.2 in c:\\users\\anowe\\anaconda3\\lib\\site-packages (from spacy<3.6.0,>=3.5.0->en-core-web-md==3.5.0) (3.0.8)\n",
      "Requirement already satisfied: requests<3.0.0,>=2.13.0 in c:\\users\\anowe\\anaconda3\\lib\\site-packages (from spacy<3.6.0,>=3.5.0->en-core-web-md==3.5.0) (2.28.1)\n",
      "Requirement already satisfied: wasabi<1.2.0,>=0.9.1 in c:\\users\\anowe\\anaconda3\\lib\\site-packages (from spacy<3.6.0,>=3.5.0->en-core-web-md==3.5.0) (1.1.1)\n",
      "Requirement already satisfied: pathy>=0.10.0 in c:\\users\\anowe\\anaconda3\\lib\\site-packages (from spacy<3.6.0,>=3.5.0->en-core-web-md==3.5.0) (0.10.1)\n",
      "Requirement already satisfied: jinja2 in c:\\users\\anowe\\anaconda3\\lib\\site-packages (from spacy<3.6.0,>=3.5.0->en-core-web-md==3.5.0) (3.1.2)\n",
      "Requirement already satisfied: srsly<3.0.0,>=2.4.3 in c:\\users\\anowe\\anaconda3\\lib\\site-packages (from spacy<3.6.0,>=3.5.0->en-core-web-md==3.5.0) (2.4.6)\n",
      "Requirement already satisfied: thinc<8.2.0,>=8.1.8 in c:\\users\\anowe\\anaconda3\\lib\\site-packages (from spacy<3.6.0,>=3.5.0->en-core-web-md==3.5.0) (8.1.9)\n",
      "Requirement already satisfied: cymem<2.1.0,>=2.0.2 in c:\\users\\anowe\\anaconda3\\lib\\site-packages (from spacy<3.6.0,>=3.5.0->en-core-web-md==3.5.0) (2.0.7)\n",
      "Requirement already satisfied: smart-open<7.0.0,>=5.2.1 in c:\\users\\anowe\\anaconda3\\lib\\site-packages (from spacy<3.6.0,>=3.5.0->en-core-web-md==3.5.0) (5.2.1)\n",
      "Requirement already satisfied: setuptools in c:\\users\\anowe\\anaconda3\\lib\\site-packages (from spacy<3.6.0,>=3.5.0->en-core-web-md==3.5.0) (65.6.3)\n",
      "Requirement already satisfied: tqdm<5.0.0,>=4.38.0 in c:\\users\\anowe\\anaconda3\\lib\\site-packages (from spacy<3.6.0,>=3.5.0->en-core-web-md==3.5.0) (4.64.1)\n",
      "Requirement already satisfied: spacy-legacy<3.1.0,>=3.0.11 in c:\\users\\anowe\\anaconda3\\lib\\site-packages (from spacy<3.6.0,>=3.5.0->en-core-web-md==3.5.0) (3.0.12)\n",
      "Requirement already satisfied: spacy-loggers<2.0.0,>=1.0.0 in c:\\users\\anowe\\anaconda3\\lib\\site-packages (from spacy<3.6.0,>=3.5.0->en-core-web-md==3.5.0) (1.0.4)\n",
      "Requirement already satisfied: langcodes<4.0.0,>=3.2.0 in c:\\users\\anowe\\anaconda3\\lib\\site-packages (from spacy<3.6.0,>=3.5.0->en-core-web-md==3.5.0) (3.3.0)\n",
      "Requirement already satisfied: murmurhash<1.1.0,>=0.28.0 in c:\\users\\anowe\\anaconda3\\lib\\site-packages (from spacy<3.6.0,>=3.5.0->en-core-web-md==3.5.0) (1.0.9)\n",
      "Requirement already satisfied: typer<0.8.0,>=0.3.0 in c:\\users\\anowe\\anaconda3\\lib\\site-packages (from spacy<3.6.0,>=3.5.0->en-core-web-md==3.5.0) (0.7.0)\n",
      "Requirement already satisfied: catalogue<2.1.0,>=2.0.6 in c:\\users\\anowe\\anaconda3\\lib\\site-packages (from spacy<3.6.0,>=3.5.0->en-core-web-md==3.5.0) (2.0.8)\n",
      "Requirement already satisfied: packaging>=20.0 in c:\\users\\anowe\\anaconda3\\lib\\site-packages (from spacy<3.6.0,>=3.5.0->en-core-web-md==3.5.0) (22.0)\n",
      "Requirement already satisfied: numpy>=1.15.0 in c:\\users\\anowe\\anaconda3\\lib\\site-packages (from spacy<3.6.0,>=3.5.0->en-core-web-md==3.5.0) (1.23.5)\n",
      "Requirement already satisfied: pydantic!=1.8,!=1.8.1,<1.11.0,>=1.7.4 in c:\\users\\anowe\\anaconda3\\lib\\site-packages (from spacy<3.6.0,>=3.5.0->en-core-web-md==3.5.0) (1.10.7)\n",
      "Requirement already satisfied: typing-extensions>=4.2.0 in c:\\users\\anowe\\anaconda3\\lib\\site-packages (from pydantic!=1.8,!=1.8.1,<1.11.0,>=1.7.4->spacy<3.6.0,>=3.5.0->en-core-web-md==3.5.0) (4.4.0)\n",
      "Requirement already satisfied: urllib3<1.27,>=1.21.1 in c:\\users\\anowe\\anaconda3\\lib\\site-packages (from requests<3.0.0,>=2.13.0->spacy<3.6.0,>=3.5.0->en-core-web-md==3.5.0) (1.26.14)\n",
      "Requirement already satisfied: idna<4,>=2.5 in c:\\users\\anowe\\anaconda3\\lib\\site-packages (from requests<3.0.0,>=2.13.0->spacy<3.6.0,>=3.5.0->en-core-web-md==3.5.0) (3.4)\n",
      "Requirement already satisfied: charset-normalizer<3,>=2 in c:\\users\\anowe\\anaconda3\\lib\\site-packages (from requests<3.0.0,>=2.13.0->spacy<3.6.0,>=3.5.0->en-core-web-md==3.5.0) (2.0.4)\n",
      "Requirement already satisfied: certifi>=2017.4.17 in c:\\users\\anowe\\anaconda3\\lib\\site-packages (from requests<3.0.0,>=2.13.0->spacy<3.6.0,>=3.5.0->en-core-web-md==3.5.0) (2022.12.7)\n",
      "Requirement already satisfied: blis<0.8.0,>=0.7.8 in c:\\users\\anowe\\anaconda3\\lib\\site-packages (from thinc<8.2.0,>=8.1.8->spacy<3.6.0,>=3.5.0->en-core-web-md==3.5.0) (0.7.9)\n",
      "Requirement already satisfied: confection<1.0.0,>=0.0.1 in c:\\users\\anowe\\anaconda3\\lib\\site-packages (from thinc<8.2.0,>=8.1.8->spacy<3.6.0,>=3.5.0->en-core-web-md==3.5.0) (0.0.4)\n",
      "Requirement already satisfied: colorama in c:\\users\\anowe\\anaconda3\\lib\\site-packages (from tqdm<5.0.0,>=4.38.0->spacy<3.6.0,>=3.5.0->en-core-web-md==3.5.0) (0.4.6)\n",
      "Requirement already satisfied: click<9.0.0,>=7.1.1 in c:\\users\\anowe\\anaconda3\\lib\\site-packages (from typer<0.8.0,>=0.3.0->spacy<3.6.0,>=3.5.0->en-core-web-md==3.5.0) (8.0.4)\n",
      "Requirement already satisfied: MarkupSafe>=2.0 in c:\\users\\anowe\\anaconda3\\lib\\site-packages (from jinja2->spacy<3.6.0,>=3.5.0->en-core-web-md==3.5.0) (2.1.1)\n",
      "Installing collected packages: en-core-web-md\n",
      "Successfully installed en-core-web-md-3.5.0\n",
      "\u001b[38;5;2m[+] Download and installation successful\u001b[0m\n",
      "You can now load the package via spacy.load('en_core_web_md')\n"
     ]
    }
   ],
   "source": [
    "!python -m spacy download en_core_web_md"
   ]
  },
  {
   "cell_type": "code",
   "execution_count": 21,
   "id": "f94b7d5d",
   "metadata": {},
   "outputs": [],
   "source": [
    "nlp = spacy.load(\"en_core_web_md\")   # load medium model"
   ]
  },
  {
   "cell_type": "code",
   "execution_count": 38,
   "id": "02db35f5",
   "metadata": {},
   "outputs": [],
   "source": [
    "textdata = \"I like eating egg mayo sandwich with crisps for lunch. However, I decided to go for hamburger today.\""
   ]
  },
  {
   "cell_type": "code",
   "execution_count": 39,
   "id": "3cec1700",
   "metadata": {},
   "outputs": [],
   "source": [
    "doc1 = nlp(textdata)   # convert textdata to nlp data"
   ]
  },
  {
   "cell_type": "code",
   "execution_count": null,
   "id": "ad68cea4",
   "metadata": {},
   "outputs": [],
   "source": []
  },
  {
   "cell_type": "code",
   "execution_count": 40,
   "id": "9d909d00",
   "metadata": {},
   "outputs": [
    {
     "name": "stdout",
     "output_type": "stream",
     "text": [
      "I  | Vector: True  | OOV: False\n",
      "like  | Vector: True  | OOV: False\n",
      "eating  | Vector: True  | OOV: False\n",
      "egg  | Vector: True  | OOV: False\n",
      "mayo  | Vector: True  | OOV: False\n",
      "sandwich  | Vector: True  | OOV: False\n",
      "with  | Vector: True  | OOV: False\n",
      "crisps  | Vector: True  | OOV: False\n",
      "for  | Vector: True  | OOV: False\n",
      "lunch  | Vector: True  | OOV: False\n",
      ".  | Vector: True  | OOV: False\n",
      "However  | Vector: True  | OOV: False\n",
      ",  | Vector: True  | OOV: False\n",
      "I  | Vector: True  | OOV: False\n",
      "decided  | Vector: True  | OOV: False\n",
      "to  | Vector: True  | OOV: False\n",
      "go  | Vector: True  | OOV: False\n",
      "for  | Vector: True  | OOV: False\n",
      "hamburger  | Vector: True  | OOV: False\n",
      "today  | Vector: True  | OOV: False\n",
      ".  | Vector: True  | OOV: False\n"
     ]
    }
   ],
   "source": [
    "# .has_vector - word is a vector\n",
    "# .is_oov - out of vocabulary\n",
    "for token in doc1:\n",
    "    print(token.text, \" | Vector:\", token.has_vector, \" | OOV:\", token.is_oov)"
   ]
  },
  {
   "cell_type": "code",
   "execution_count": 41,
   "id": "09c8eadc",
   "metadata": {},
   "outputs": [
    {
     "data": {
      "text/plain": [
       "array([ -1.8607  ,   0.15804 ,  -4.1425  ,  -8.6359  , -16.955   ,\n",
       "         1.157   ,  -1.588   ,   5.6609  , -12.03    ,  16.417   ,\n",
       "         4.1907  ,   5.5122  ,  -0.11932 ,  -6.06    ,   3.8957  ,\n",
       "        -7.8212  ,   3.6736  , -14.824   ,  -7.6638  ,   2.5344  ,\n",
       "         7.9893  ,   3.6785  ,   4.3296  , -11.338   ,  -3.5506  ,\n",
       "        -5.899   ,   1.0998  ,   3.4515  ,  -5.4191  ,   1.8356  ,\n",
       "        -2.902   ,  -7.9294  ,  -1.1269  ,   8.4124  ,   5.1416  ,\n",
       "        -3.1489  ,  -4.2061  ,  -1.459   ,   7.8313  ,   0.27859 ,\n",
       "        -4.3832  ,   8.0756  ,  -0.94784 ,  -6.1214  ,   8.2792  ,\n",
       "         5.0529  ,  -8.3611  ,  -6.0743  ,  -0.53773 ,   2.7538  ,\n",
       "         3.8162  ,  -4.1612  ,   0.7591  ,  -2.8374  ,  -6.4851  ,\n",
       "        -3.3435  ,   3.2703  ,   2.759   ,   2.6645  ,   4.0013  ,\n",
       "        13.381   ,  -5.2907  ,  -3.133   ,   4.5374  , -11.899   ,\n",
       "        -6.716   ,  -0.041939,  -2.0879  ,   3.0101  ,  10.3     ,\n",
       "         2.6835  ,   2.7265  ,   8.3018  ,  -4.4563  ,  14.43    ,\n",
       "         3.9642  ,  -4.8287  ,  -5.648   ,  -7.2597  , -11.475   ,\n",
       "        -2.6171  ,   0.3325  ,  14.454   ,  -5.155   ,   0.93722 ,\n",
       "        -2.6187  ,  -1.783   ,   3.8711  ,   1.4681  ,  -6.705   ,\n",
       "        -4.0953  ,  -0.22536 ,   9.444   , -10.305   ,  -0.13202 ,\n",
       "        -2.5534  ,   0.36113 ,  -8.539   ,   2.6755  ,  -2.5872  ,\n",
       "         2.8679  ,   9.7515  ,  -2.1221  ,   0.82061 , -10.319   ,\n",
       "         1.1547  ,  -6.5808  ,   4.9236  ,  -5.0744  ,  -1.4781  ,\n",
       "        -4.9195  ,  -8.3767  ,   9.5575  ,  -3.685   ,   2.1198  ,\n",
       "        -0.17453 ,   2.0831  ,  -3.9546  ,   1.0606  ,   2.7273  ,\n",
       "        -3.8842  ,  -1.3651  ,  -9.3881  ,   8.7217  ,   0.36486 ,\n",
       "         6.9968  ,   5.9808  ,  -1.9575  ,  -4.9097  ,   0.17648 ,\n",
       "         0.82424 ,   3.5459  ,   0.63201 ,  -5.3636  ,   0.18387 ,\n",
       "         5.3658  ,  -7.0217  ,  -6.1577  ,  12.318   ,  -9.2032  ,\n",
       "        -3.8502  ,  -2.3115  ,   3.8475  ,   1.1169  , -19.406   ,\n",
       "         1.3987  ,   4.8752  ,  -1.3337  , -10.459   , -10.679   ,\n",
       "        -8.125   ,   1.8708  ,  -8.5214  ,  -5.3364  ,  -1.5602  ,\n",
       "         1.5305  ,   7.3319  ,   1.4623  ,  -4.2276  ,   3.925   ,\n",
       "        -3.6453  ,  -8.9947  ,  -9.9602  ,   4.5267  ,  -2.8874  ,\n",
       "         3.9509  ,   0.33015 ,  -0.69045 ,  -8.5682  ,   5.6035  ,\n",
       "         4.4303  ,  -0.12195 ,  -9.1766  ,   7.1214  ,  11.119   ,\n",
       "       -13.376   , -11.446   ,  -4.6233  ,   2.5693  ,   1.0571  ,\n",
       "        -3.7533  ,   2.1846  ,  11.634   ,  -0.71756 ,  -3.1931  ,\n",
       "         9.6407  ,  -0.97389 ,  -9.5713  ,   7.6816  ,   6.216   ,\n",
       "        -3.557   ,   8.6693  ,  -9.1699  ,   6.9589  ,  -3.7244  ,\n",
       "        -1.4941  , -11.266   ,   3.6515  ,  -6.93    ,  13.741   ,\n",
       "        -5.546   ,   1.3314  ,  -3.5116  ,   4.2548  ,  -4.1717  ,\n",
       "         0.6486  ,  13.1     ,  -5.2464  ,  -2.2528  ,  -4.0023  ,\n",
       "         0.80613 ,   0.41242 ,   5.1636  ,   6.016   , -11.018   ,\n",
       "         2.5725  ,  -5.4786  ,   3.9834  ,   1.7688  ,   1.0016  ,\n",
       "        -6.0102  ,   0.75538 ,  -3.0043  ,   5.4985  ,   5.7801  ,\n",
       "        -7.1877  ,  -0.80729 ,   3.1282  ,   0.39466 ,   2.0783  ,\n",
       "       -17.384   ,  -7.25    ,   3.3675  ,  -2.8671  ,  -4.7587  ,\n",
       "         2.5144  ,  -8.2825  ,  13.736   ,  -0.033851,  -6.3096  ,\n",
       "       -17.447   ,  -2.4643  ,   5.0504  ,   0.05487 ,   8.3954  ,\n",
       "        -7.3362  ,   6.2495  ,  -0.50043 ,  13.246   ,   4.4032  ,\n",
       "        -5.1087  ,   8.4952  , -11.692   ,   1.8684  ,  -4.0402  ,\n",
       "        -7.5522  ,  -3.1862  ,   1.7126  ,  -8.6044  ,   7.4476  ,\n",
       "         9.7846  ,   4.0875  ,   6.8338  ,   7.4497  ,   6.187   ,\n",
       "        -5.592   ,   4.6493  ,   0.78633 , -10.055   ,   5.5839  ,\n",
       "        -5.2267  ,  -3.3644  , -14.551   ,   2.5234  ,  -4.6496  ,\n",
       "        -5.5413  ,  -0.79268 ,  -9.7865  ,   2.4501  ,  -0.26537 ,\n",
       "       -15.947   , -10.645   ,   3.9164  ,   1.9886  ,   9.6709  ,\n",
       "        -1.5746  ,   1.333   ,   1.628   ,  -3.5716  ,   2.7336  ,\n",
       "         9.7687  ,   1.9344  ,   4.3976  ,  -2.1922  ,  -4.7053  ,\n",
       "         0.61891 ,   8.0963  ,   7.9379  , -11.57    ,   4.3334  ],\n",
       "      dtype=float32)"
      ]
     },
     "execution_count": 41,
     "metadata": {},
     "output_type": "execute_result"
    }
   ],
   "source": [
    "doc1[0].vector    # vector of a word from nlp doc"
   ]
  },
  {
   "cell_type": "code",
   "execution_count": 42,
   "id": "40fd4c3b",
   "metadata": {},
   "outputs": [
    {
     "data": {
      "text/plain": [
       "(300,)"
      ]
     },
     "execution_count": 42,
     "metadata": {},
     "output_type": "execute_result"
    }
   ],
   "source": [
    "doc1[0].vector.shape    # shape of the word vector"
   ]
  },
  {
   "cell_type": "code",
   "execution_count": null,
   "id": "f8c48758",
   "metadata": {},
   "outputs": [],
   "source": []
  },
  {
   "cell_type": "code",
   "execution_count": 77,
   "id": "8439f5ba",
   "metadata": {},
   "outputs": [
    {
     "name": "stdout",
     "output_type": "stream",
     "text": [
      "I <-> bread: 0.21660545451483973\n",
      "like <-> bread: 0.32850333304965346\n",
      "eating <-> bread: 0.49501056267378507\n",
      "egg <-> bread: 0.47229975122497464\n",
      "mayo <-> bread: 0.5245119275823967\n",
      "sandwich <-> bread: 0.6341067010130894\n",
      "with <-> bread: 0.1841007630821117\n",
      "crisps <-> bread: 0.592046392375412\n",
      "for <-> bread: 0.1601976805191345\n",
      "lunch <-> bread: 0.42157739906755326\n",
      ". <-> bread: 0.17884545549987832\n",
      "However <-> bread: 0.24922151789354463\n",
      ", <-> bread: 0.159258258556151\n",
      "I <-> bread: 0.21660545451483973\n",
      "decided <-> bread: 0.1280277789656061\n",
      "to <-> bread: 0.15366677334748094\n",
      "go <-> bread: 0.15329511588109518\n",
      "for <-> bread: 0.1601976805191345\n",
      "hamburger <-> bread: 0.47520687769584247\n",
      "today <-> bread: 0.2485721487471358\n",
      ". <-> bread: 0.17884545549987832\n"
     ]
    }
   ],
   "source": [
    "# SIMILARITIES\n",
    "# closer to 1 is more similar and vice versa\n",
    "base_token = nlp(\"bread\")\n",
    "\n",
    "for token in doc1:\n",
    "    print(f\"{token.text} <-> {base_token.text}:\", token.similarity(base_token))"
   ]
  },
  {
   "cell_type": "code",
   "execution_count": null,
   "id": "ca8bdba9",
   "metadata": {},
   "outputs": [],
   "source": []
  },
  {
   "cell_type": "code",
   "execution_count": 79,
   "id": "aa5bb5b2",
   "metadata": {},
   "outputs": [
    {
     "name": "stdout",
     "output_type": "stream",
     "text": [
      "iPhone <-> iPhone: 1.0\n",
      "runs <-> iPhone: 0.09336377958288967\n",
      "on <-> iPhone: 0.07844381096401218\n",
      "iOS <-> iPhone: 0.7033441092034923\n",
      "software <-> iPhone: 0.44921527627100033\n",
      ". <-> iPhone: -0.04375076516665193\n",
      "Samsung <-> iPhone: 0.6683552428198852\n",
      "uses <-> iPhone: 0.10414332018713815\n",
      "Android <-> iPhone: 0.7161360741993897\n",
      ". <-> iPhone: -0.04375076516665193\n"
     ]
    }
   ],
   "source": [
    "# SIMILARITIES\n",
    "# in function\n",
    "def show_similarity(base_word, textfile):\n",
    "    base_token = nlp(base_word)\n",
    "    doc = nlp(textfile)\n",
    "\n",
    "    for token in doc:\n",
    "        print(f\"{token.text} <-> {base_token.text}:\", token.similarity(base_token))\n",
    "\n",
    "        \n",
    "show_similarity(\"iPhone\", \"iPhone runs on iOS software. Samsung uses Android.\")"
   ]
  },
  {
   "cell_type": "code",
   "execution_count": null,
   "id": "40e52a55",
   "metadata": {},
   "outputs": [],
   "source": [
    " "
   ]
  },
  {
   "cell_type": "code",
   "execution_count": 81,
   "id": "e80aac07",
   "metadata": {},
   "outputs": [],
   "source": [
    "# SIMILAR WORDS\n",
    "# with numpy library\n",
    "import numpy as np"
   ]
  },
  {
   "cell_type": "code",
   "execution_count": 82,
   "id": "d1f0afab",
   "metadata": {},
   "outputs": [],
   "source": [
    "doc2 = nlp(\"iPhone runs on iOS software. Samsung uses Android.\")\n",
    "my_word = \"software\""
   ]
  },
  {
   "cell_type": "code",
   "execution_count": 83,
   "id": "e6ffe47e",
   "metadata": {},
   "outputs": [
    {
     "name": "stdout",
     "output_type": "stream",
     "text": [
      "['Wetware', 'Riftwar', 'Garware', 'Komputer', 'creamware', 'Gruters', 'toolroom', 'Workflows', 'automatiquement', 'techn']\n"
     ]
    }
   ],
   "source": [
    "# gives similar words to my_word from dictionary\n",
    "ms = nlp.vocab.vectors.most_similar(\n",
    "    np.asarray([nlp.vocab.vectors[nlp.vocab.strings[my_word]]]), n=10)\n",
    "words = [nlp.vocab.strings[w] for w in ms[0][0]]\n",
    "distances = ms[2]\n",
    "print(words)"
   ]
  },
  {
   "cell_type": "code",
   "execution_count": null,
   "id": "3213c917",
   "metadata": {},
   "outputs": [],
   "source": []
  },
  {
   "cell_type": "code",
   "execution_count": 89,
   "id": "05f6a128",
   "metadata": {},
   "outputs": [],
   "source": [
    "# DOCUMENT SIMILARITIES\n",
    "\n",
    "doc3 = nlp(\"I like salty fries without tomato ketchup.\")\n",
    "doc4 = nlp(\"Fast food tastes very good but it is unhealthy.\")\n",
    "doc5 = nlp(\"I like cheeseburger more than hamburger.\")"
   ]
  },
  {
   "cell_type": "code",
   "execution_count": 90,
   "id": "a0ccae9c",
   "metadata": {},
   "outputs": [
    {
     "name": "stdout",
     "output_type": "stream",
     "text": [
      "I like salty fries without tomato ketchup. <-> Fast food tastes very good but it is unhealthy. 0.6739750837451982\n"
     ]
    }
   ],
   "source": [
    "print(doc3, \"<->\", doc4, doc3.similarity(doc4))"
   ]
  },
  {
   "cell_type": "code",
   "execution_count": 93,
   "id": "ede1e562",
   "metadata": {},
   "outputs": [],
   "source": [
    "# similarity by indexing\n",
    "salty_fries = doc3[2:4]\n",
    "hamburger = doc5[-2]"
   ]
  },
  {
   "cell_type": "code",
   "execution_count": 94,
   "id": "76d26f79",
   "metadata": {},
   "outputs": [
    {
     "name": "stdout",
     "output_type": "stream",
     "text": [
      "salty fries <-> hamburger 0.626288115978241\n"
     ]
    }
   ],
   "source": [
    "print(salty_fries, \"<->\", hamburger, salty_fries.similarity(hamburger))"
   ]
  }
 ],
 "metadata": {
  "kernelspec": {
   "display_name": "Python 3 (ipykernel)",
   "language": "python",
   "name": "python3"
  },
  "language_info": {
   "codemirror_mode": {
    "name": "ipython",
    "version": 3
   },
   "file_extension": ".py",
   "mimetype": "text/x-python",
   "name": "python",
   "nbconvert_exporter": "python",
   "pygments_lexer": "ipython3",
   "version": "3.10.9"
  }
 },
 "nbformat": 4,
 "nbformat_minor": 5
}
